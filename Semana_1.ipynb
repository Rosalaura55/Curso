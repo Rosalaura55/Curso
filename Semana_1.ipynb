{
 "cells": [
  {
   "cell_type": "markdown",
   "id": "a61f5497",
   "metadata": {},
   "source": [
    "# Semana 1\n",
    "## Tarea 1\n",
    "### Parte 1"
   ]
  },
  {
   "cell_type": "code",
   "execution_count": 2,
   "id": "400d3d74",
   "metadata": {},
   "outputs": [
    {
     "name": "stdout",
     "output_type": "stream",
     "text": [
      "Hola, Mundo!\n"
     ]
    }
   ],
   "source": [
    "print (\"Hola, Mundo!\")"
   ]
  },
  {
   "cell_type": "code",
   "execution_count": 3,
   "id": "daea0c80",
   "metadata": {},
   "outputs": [
    {
     "name": "stdout",
     "output_type": "stream",
     "text": [
      "Hola, Mundo!\n"
     ]
    }
   ],
   "source": [
    "Saludo = \"Hola, Mundo!\"\n",
    "print (Saludo)"
   ]
  },
  {
   "cell_type": "markdown",
   "id": "2623096f",
   "metadata": {},
   "source": [
    "### Parte 2"
   ]
  },
  {
   "cell_type": "code",
   "execution_count": 4,
   "id": "ca815068",
   "metadata": {},
   "outputs": [],
   "source": [
    "#Sumar dos números\n",
    "a = 5\n",
    "b = 15"
   ]
  },
  {
   "cell_type": "code",
   "execution_count": 5,
   "id": "3def3845",
   "metadata": {},
   "outputs": [
    {
     "name": "stdout",
     "output_type": "stream",
     "text": [
      "20\n"
     ]
    }
   ],
   "source": [
    "suma = a + b\n",
    "print (suma)"
   ]
  },
  {
   "cell_type": "code",
   "execution_count": 6,
   "id": "e0e13eeb",
   "metadata": {},
   "outputs": [
    {
     "name": "stdout",
     "output_type": "stream",
     "text": [
      "10\n"
     ]
    }
   ],
   "source": [
    "#Resta de dos números\n",
    "resta = b - a\n",
    "print (resta)"
   ]
  },
  {
   "cell_type": "code",
   "execution_count": 7,
   "id": "47d3aa69",
   "metadata": {},
   "outputs": [
    {
     "name": "stdout",
     "output_type": "stream",
     "text": [
      "75\n"
     ]
    }
   ],
   "source": [
    "#Multiplicación de dos números\n",
    "multiplicacion = a * b\n",
    "print (multiplicacion)"
   ]
  },
  {
   "cell_type": "code",
   "execution_count": 8,
   "id": "78d3635e",
   "metadata": {},
   "outputs": [
    {
     "name": "stdout",
     "output_type": "stream",
     "text": [
      "3.0\n"
     ]
    }
   ],
   "source": [
    "#División de dos números\n",
    "division = b / a\n",
    "print (division)"
   ]
  },
  {
   "cell_type": "markdown",
   "id": "2f0d2f89",
   "metadata": {},
   "source": [
    "## Tarea 2"
   ]
  },
  {
   "cell_type": "code",
   "execution_count": 9,
   "id": "42be7143",
   "metadata": {},
   "outputs": [],
   "source": [
    "def valor_absoluto(x):\n",
    "    if x < 0:\n",
    "        return -x\n",
    "    else:\n",
    "        return x"
   ]
  },
  {
   "cell_type": "code",
   "execution_count": 10,
   "id": "f03698c7",
   "metadata": {},
   "outputs": [],
   "source": [
    "def evaluar_absoluto(numero):\n",
    "    resultado = valor_absoluto(numero)\n",
    "    print(\"El valor absoluto de\", numero, \"es\", resultado)\n",
    "    return resultado"
   ]
  },
  {
   "cell_type": "code",
   "execution_count": 11,
   "id": "170b0795",
   "metadata": {},
   "outputs": [
    {
     "name": "stdout",
     "output_type": "stream",
     "text": [
      "El valor absoluto de -10 es 10\n",
      "El valor absoluto de 5 es 5\n"
     ]
    },
    {
     "data": {
      "text/plain": [
       "5"
      ]
     },
     "execution_count": 11,
     "metadata": {},
     "output_type": "execute_result"
    }
   ],
   "source": [
    "#Ejemplos de uso\n",
    "evaluar_absoluto(-10)\n",
    "evaluar_absoluto(5)"
   ]
  },
  {
   "cell_type": "markdown",
   "id": "b32e0e0f",
   "metadata": {},
   "source": [
    "## Tarea 3"
   ]
  },
  {
   "cell_type": "code",
   "execution_count": 17,
   "id": "a0a572d6",
   "metadata": {},
   "outputs": [],
   "source": [
    "def import_csv(file):\n",
    "    # Read the file into a DataFrame: df\n",
    "    import pandas as pd\n",
    "    return pd.read_csv(file)"
   ]
  },
  {
   "cell_type": "code",
   "execution_count": 20,
   "id": "1ef91f15",
   "metadata": {},
   "outputs": [],
   "source": [
    "file_name = \"Terminos_lagoon_TA_DIC_2023_RawData.csv\""
   ]
  },
  {
   "cell_type": "code",
   "execution_count": 24,
   "id": "2decd4a8",
   "metadata": {},
   "outputs": [],
   "source": [
    "df = import_csv(file_name)"
   ]
  },
  {
   "cell_type": "code",
   "execution_count": 25,
   "id": "32d250b6",
   "metadata": {},
   "outputs": [
    {
     "name": "stdout",
     "output_type": "stream",
     "text": [
      "Primeras columnas del DataFrame:\n",
      "   sample      date     estuary   area station layer_depth season  \\\n",
      "0  CDL01S  5/3/2020  Candelaria  River   CDL01     Surface    Dry   \n",
      "1  CDL01F  5/3/2020  Candelaria  River   CDL01      Bottom    Dry   \n",
      "2  CDL02S  5/3/2020  Candelaria  River   CDL02     Surface    Dry   \n",
      "3  CDL02F  5/3/2020  Candelaria  River   CDL02      Bottom    Dry   \n",
      "4  CDL03S  5/3/2020  Candelaria  River   CDL03     Surface    Dry   \n",
      "\n",
      "   chlorophy_microg_l  cond_microsiemens_cm  depth_m  ...  do_mg_l  sal_psu  \\\n",
      "0                0.36                7015.4    0.464  ...     7.12     3.56   \n",
      "1                4.19               29886.1    7.792  ...     4.90    16.97   \n",
      "2                0.92               16691.1    0.453  ...     6.99     8.94   \n",
      "3                2.23               24847.4    1.261  ...     6.52    13.87   \n",
      "4                0.58               46341.6    0.465  ...     6.24    28.06   \n",
      "\n",
      "   sp_cond_microsiemens_cm  turbidity_fnu  temp_c  latitude  longitude  \\\n",
      "0                   6547.7           1.47  28.740  18.55736  -91.25012   \n",
      "1                  27751.2          95.33  29.028  18.55722  -91.24990   \n",
      "2                  15429.1           5.50  29.283  18.61007  -91.24410   \n",
      "3                  23074.0          13.44  29.024  18.61005  -91.24403   \n",
      "4                  43670.8           3.60  28.202  18.63166  -91.29359   \n",
      "\n",
      "   dic_micromol_kg  ta_micromol_kg  dummy_data  \n",
      "0             3915            3863      3685.0  \n",
      "1             3698            3685         NaN  \n",
      "2             3724            3708      3708.0  \n",
      "3             3667            3992      3992.0  \n",
      "4             2928            3023      3023.0  \n",
      "\n",
      "[5 rows x 21 columns]\n"
     ]
    }
   ],
   "source": [
    "print (\"Primeras columnas del DataFrame:\")\n",
    "print (df.head())"
   ]
  }
 ],
 "metadata": {
  "kernelspec": {
   "display_name": "base",
   "language": "python",
   "name": "python3"
  },
  "language_info": {
   "codemirror_mode": {
    "name": "ipython",
    "version": 3
   },
   "file_extension": ".py",
   "mimetype": "text/x-python",
   "name": "python",
   "nbconvert_exporter": "python",
   "pygments_lexer": "ipython3",
   "version": "3.13.5"
  }
 },
 "nbformat": 4,
 "nbformat_minor": 5
}
