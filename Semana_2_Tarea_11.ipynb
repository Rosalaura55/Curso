{
 "cells": [
  {
   "cell_type": "markdown",
   "id": "73e20c2b",
   "metadata": {},
   "source": [
    "# Semana 2, tarea 11 "
   ]
  },
  {
   "cell_type": "code",
   "execution_count": 10,
   "id": "3be4bb09",
   "metadata": {},
   "outputs": [],
   "source": [
    "import pandas as pd\n",
    "import seaborn as sns\n",
    "import matplotlib.pyplot as plt\n",
    "import statsmodels.api as sm\n",
    "from statsmodels.formula.api import ols\n",
    "from statsmodels.stats.multicomp import pairwise_tukeyhsd\n",
    "\n",
    "sns.set_theme(style=\"whitegrid\", context=\"talk\")"
   ]
  },
  {
   "cell_type": "code",
   "execution_count": 3,
   "id": "8923ae4f",
   "metadata": {},
   "outputs": [],
   "source": [
    "df = pd.read_csv(\"Terminos_lagoon_TA_DIC_2023_RawData.csv\")\n",
    "\n",
    "# Variables \n",
    "CANDIDATES_DIC  = [\"dic_micromol_kg\"]\n",
    "CANDIDATES_TEMP = [\"temp_c\"]"
   ]
  },
  {
   "cell_type": "code",
   "execution_count": 4,
   "id": "bdba05db",
   "metadata": {},
   "outputs": [],
   "source": [
    "def first_existing(cols, candidates):\n",
    "    for c in candidates:\n",
    "        if c in cols:\n",
    "            return c\n",
    "    raise ValueError(f\"No encontré ninguna de estas columnas: {candidates}\")\n",
    "\n",
    "DIC_COL  = first_existing(df.columns, CANDIDATES_DIC)\n",
    "TEMP_COL = first_existing(df.columns, CANDIDATES_TEMP)\n",
    "\n",
    "# --- Definir factores ---\n",
    "FACTOR1 = \"estuary\"\n",
    "FACTOR2 = \"area\"\n",
    "\n",
    "# Convertir a categóricos\n",
    "df[FACTOR1] = df[FACTOR1].astype(str).str.strip()\n",
    "df[FACTOR2] = df[FACTOR2].astype(str).str.strip()"
   ]
  },
  {
   "cell_type": "code",
   "execution_count": 5,
   "id": "03c26190",
   "metadata": {},
   "outputs": [],
   "source": [
    "def run_two_way_anova(data, response, factor1, factor2):\n",
    "    \"\"\"\n",
    "    Corre un ANOVA de dos vías con interacción usando statsmodels.\n",
    "    \"\"\"\n",
    "    print(f\"\\n=== ANOVA de dos vías para {response} ===\")\n",
    "    formula = f\"{response} ~ C({factor1}) + C({factor2}) + C({factor1}):C({factor2})\"\n",
    "    model = ols(formula, data=data).fit()\n",
    "    anova_table = sm.stats.anova_lm(model, typ=2)\n",
    "    print(anova_table)\n",
    "    return model, anova_table"
   ]
  },
  {
   "cell_type": "code",
   "execution_count": 7,
   "id": "e5551d3f",
   "metadata": {},
   "outputs": [],
   "source": [
    "def run_tukey(data, response, factor):\n",
    "    \"\"\"\n",
    "    Corre Tukey HSD para un solo factor (columna categórica).\n",
    "    \"\"\"\n",
    "    print(f\"\\n>>> Tukey HSD para {response} según {factor}\")\n",
    "    tukey = pairwise_tukeyhsd(endog=data[response], groups=data[factor], alpha=0.05)\n",
    "    print(tukey.summary())\n",
    "    return tukey"
   ]
  },
  {
   "cell_type": "code",
   "execution_count": 14,
   "id": "2a0e487d",
   "metadata": {},
   "outputs": [
    {
     "name": "stdout",
     "output_type": "stream",
     "text": [
      "\n",
      "=== ANOVA de dos vías para dic_micromol_kg ===\n",
      "                          sum_sq     df          F        PR(>F)\n",
      "C(estuary)          1.996309e+04    1.0   0.164162  6.862183e-01\n",
      "C(area)             1.328999e+07    2.0  54.643781  9.179713e-17\n",
      "C(estuary):C(area)  7.537039e+05    2.0   3.098966  4.945351e-02\n",
      "Residual            1.216057e+07  100.0        NaN           NaN\n",
      "\n",
      ">>> Tukey HSD para dic_micromol_kg según estuary\n",
      "     Multiple Comparison of Means - Tukey HSD, FWER=0.05     \n",
      "=============================================================\n",
      "  group1    group2  meandiff p-adj    lower    upper   reject\n",
      "-------------------------------------------------------------\n",
      "Candelaria Palizada  33.7863 0.7297 -159.6129 227.1855  False\n",
      "-------------------------------------------------------------\n",
      "\n",
      ">>> Tukey HSD para dic_micromol_kg según area\n",
      "  Multiple Comparison of Means - Tukey HSD, FWER=0.05  \n",
      "=======================================================\n",
      "group1 group2 meandiff p-adj   lower     upper   reject\n",
      "-------------------------------------------------------\n",
      " Coast  Plume 167.1587 0.1205 -32.8827  367.2002  False\n",
      " Coast  River 821.4444    0.0  621.403 1021.4859   True\n",
      " Plume  River 654.2857    0.0 452.8405   855.731   True\n",
      "-------------------------------------------------------\n",
      "\n",
      "=== ANOVA de dos vías para temp_c ===\n",
      "                       sum_sq     df         F    PR(>F)\n",
      "C(estuary)           2.572247    1.0  3.686100  0.057717\n",
      "C(area)             10.015826    2.0  7.176474  0.001224\n",
      "C(estuary):C(area)   6.102442    2.0  4.372482  0.015120\n",
      "Residual            69.782357  100.0       NaN       NaN\n",
      "\n",
      ">>> Tukey HSD para temp_c según estuary\n",
      "   Multiple Comparison of Means - Tukey HSD, FWER=0.05   \n",
      "=========================================================\n",
      "  group1    group2  meandiff p-adj   lower  upper  reject\n",
      "---------------------------------------------------------\n",
      "Candelaria Palizada  -0.3035 0.0887 -0.6536 0.0467  False\n",
      "---------------------------------------------------------\n",
      "\n",
      ">>> Tukey HSD para temp_c según area\n",
      "Multiple Comparison of Means - Tukey HSD, FWER=0.05\n",
      "===================================================\n",
      "group1 group2 meandiff p-adj   lower  upper  reject\n",
      "---------------------------------------------------\n",
      " Coast  Plume   0.5642 0.0206  0.0715 1.0569   True\n",
      " Coast  River   0.7031 0.0028  0.2104 1.1958   True\n",
      " Plume  River   0.1389 0.7839 -0.3573  0.635  False\n",
      "---------------------------------------------------\n"
     ]
    }
   ],
   "source": [
    "if __name__ == \"__main__\":\n",
    "    # DIC\n",
    "    model_dic, anova_dic = run_two_way_anova(df, DIC_COL, FACTOR1, FACTOR2)\n",
    "\n",
    "    # Post-hoc Tukey para cada factor por separado\n",
    "    run_tukey(df, DIC_COL, FACTOR1)\n",
    "    run_tukey(df, DIC_COL, FACTOR2)\n",
    "\n",
    "    # Temperatura\n",
    "    model_temp, anova_temp = run_two_way_anova(df, TEMP_COL, FACTOR1, FACTOR2)\n",
    "\n",
    "    # Post-hoc Tukey\n",
    "    run_tukey(df, TEMP_COL, FACTOR1)\n",
    "    run_tukey(df, TEMP_COL, FACTOR2)"
   ]
  },
  {
   "cell_type": "markdown",
   "id": "94d763b3",
   "metadata": {},
   "source": [
    "# Interpretation\n",
    "## ANOVA\n",
    "\n",
    "The factors were estuary and area.\n",
    "A two-way ANOVA was performed for DIC and temperature, followed by a Tukey post-hoc test.\n",
    "\n",
    "### Dissolved Inorganic Carbon (DIC)\n",
    "\n",
    "- The estuary factor, with p = 0.686, did not have a significant effect on DIC.\n",
    "\n",
    "- The area factor, with p = 0.0001, had a highly significant effect on DIC.\n",
    "\n",
    "- The interaction between the two factors, with p = 0.049, had a marginally significant effect, suggesting that the relationship between DIC and area may depend on the estuary.\n",
    "\n",
    "### Temperature\n",
    "\n",
    "- The estuary factor, with p = 0.0577, had a marginally significant effect on temperature.\n",
    "\n",
    "- The area factor, with p = 0.00122, had a highly significant effect on temperature.\n",
    "\n",
    "- The interaction between the two factors, with p = 0.01512, was significant, indicating that the effect of area on temperature varies depending on the estuary.\n",
    "\n",
    "## Tukey\n",
    "### DIC\n",
    "\n",
    "- Candelaria vs Palizada: mean difference ≈ 33.8 µmol/kg, p = 0.73, not significant. This agrees with the ANOVA results.\n",
    "\n",
    "- Coast vs Plume: mean difference ≈ 167 µmol/kg, p = 0.12, not significant.\n",
    "\n",
    "- Coast vs River: mean difference ≈ 821 µmol/kg, p < 0.001, significant.\n",
    "\n",
    "- Plume vs River: mean difference ≈ 654 µmol/kg, p < 0.001, significant.\n",
    "\n",
    "- DIC in the river is significantly higher than in the coast or plume. Coast and plume are statistically similar.\n",
    "\n",
    "### Temperature\n",
    "\n",
    "- Candelaria vs Palizada: mean difference = -0.3035 °C, adjusted p = 0.0887, not significant.\n",
    "\n",
    "- Coast vs Plume: mean difference ≈ 0.5642 °C, p = 0.0206, significant.\n",
    "\n",
    "- Coast vs River: mean difference ≈ 0.7031 °C, p < 0.0028, significant.\n",
    "\n",
    "- Plume vs River: mean difference ≈ 0.1389 °C, p = 0.7839, not significant.\n"
   ]
  }
 ],
 "metadata": {
  "kernelspec": {
   "display_name": "base",
   "language": "python",
   "name": "python3"
  },
  "language_info": {
   "codemirror_mode": {
    "name": "ipython",
    "version": 3
   },
   "file_extension": ".py",
   "mimetype": "text/x-python",
   "name": "python",
   "nbconvert_exporter": "python",
   "pygments_lexer": "ipython3",
   "version": "3.13.5"
  }
 },
 "nbformat": 4,
 "nbformat_minor": 5
}
